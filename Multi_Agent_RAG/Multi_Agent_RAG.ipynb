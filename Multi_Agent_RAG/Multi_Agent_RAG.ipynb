{
  "cells": [
    {
      "cell_type": "markdown",
      "metadata": {
        "id": "fOPqmHy0ruwv"
      },
      "source": [
        "[Original Notebook Here!](https://colab.research.google.com/drive/1QF40xb7qqraKYBwJpOyZNVXq2AepJPUM#scrollTo=KuOUnlDpSYdw)\n",
        "\n",
        "Welcome to my multi agent RAG application for dog breed information! Here is a RAG application with embedded text information from over 70 breeds! I use LangGraph to organize the structure of the information retrieval process, and use states to pass the correct information from a dictionary into the appropriate nodes. [Check out my other notebook](https://colab.research.google.com/drive/1by5UTMttZwW6xGGo89hmVNu2b90V3-HV#scrollTo=qpSPqD1AcNiH) that shows the full process, starting from gathering the text data to setting up a basic RAG, all in one go.\n",
        "\n",
        "\n",
        "This notebook is broken down into seperate cells for clarity, but you can click on \"Runtime\" and select \"Run All\". Make sure to change the runtime type to use a GPU, such as the free \"T4\" provided by Google Colab. **IMPORTANT**: You will need an [API key from Tavily](https://tavily.com) to run this notebook. The free tier offers 1000 API calls. Furthermore, the key in this notebook further down is stored and retrieved as a Colab Secret. If you are not using Google Colab, you will need to retrieve your API Key in a different manner, such as with dot_env or importing a config file (or directly if its for your eyes only).\n",
        "\n",
        "\n",
        "Google Colab notebooks erases anything installed and uploaded/downloaded after a runtime is closed or disconnected. This means you have to download the model and other data each time. As a result, in this Google Colab notebook I use a 3 billion parameter version of Ollama 3.2 to provide a balance between performance and time dowloading the model. If you are running this notebook locally or somewhere else and you have access to a GPU, you wont have to download the model and data each time so feel free to try it with a [larger Ollama model.](https://ollama.com/library)"
      ]
    },
    {
      "cell_type": "markdown",
      "metadata": {
        "id": "aEanye15Uq47"
      },
      "source": [
        "The first two cells install all of the necessary packages, downloads the vector database, and sets up OLlama for use. Google Colab comes already with some packages installed. *If you are not using Colab, you will need to install the rest of the packages as well.*"
      ]
    },
    {
      "cell_type": "code",
      "execution_count": 1,
      "metadata": {
        "id": "F6NpRFVKJAWK"
      },
      "outputs": [],
      "source": [
        "#This cell installs the necessary python libraries, installs Ollama and boots it up, and loads an Ollama model ready for use. Here\n",
        "%%capture\n",
        "!pip install langgraph langchain_ollama\n",
        "!curl https://ollama.ai/install.sh | sh\n",
        "!nohup ollama serve &  #starts the Ollama server in the background using nohup.\n",
        "!ollama pull llama3.2:3b\n",
        "!pip install sentence-transformers chromadb\n",
        "%pip install -qU \"langchain-community>=0.2.11\"\n",
        "\n"
      ]
    },
    {
      "cell_type": "code",
      "execution_count": 2,
      "metadata": {
        "id": "KuOUnlDpSYdw"
      },
      "outputs": [],
      "source": [
        "from sentence_transformers import SentenceTransformer\n",
        "import chromadb\n",
        "import os\n",
        "from langchain_ollama import ChatOllama\n",
        "from typing import TypedDict, Annotated\n",
        "from langgraph.graph.message import add_messages\n",
        "from langgraph.graph import StateGraph, START, END\n",
        "from google.colab import userdata\n",
        "from langchain_community.tools import TavilySearchResults\n",
        "import os\n",
        "import gdown\n",
        "\n",
        "#Downloads the vector database\n",
        "url = \"https://drive.google.com/drive/folders/17riCAq2S53-HHfVED2IKIRasvQwjbku3?usp=sharing\"\n",
        "gdown.download_folder(url, quiet=True, use_cookies=False)\n",
        "\n",
        "#By default, Ollama serves on 127.0.0.1:11434, which is the localhost address and port\n",
        "os.environ['OLLAMA_HOST'] = '127.0.0.1:11434'\n",
        "\n",
        "#If you want to change other parameters for Ollama you may do so here, but the default is good\n",
        "llm = ChatOllama(\n",
        "    model=\"llama3.2:3b\",\n",
        "    temperature=0,\n",
        "\n",
        ")\n"
      ]
    },
    {
      "cell_type": "markdown",
      "metadata": {
        "id": "yxAg5I4jOyjb"
      },
      "source": [
        "In the following four cells, the six functions will be used as part of nodes. Each function will either be a single node, or go with a conditional edge (not a regular edge). LangGraph uses nodes and edges to structure a project, where the node dictates what function to run while the edge dictates which node should come next. There is an image created near the end that helps visualize this structure.\n",
        "\n",
        "The \"Embedding\" function is the start node. It will receive the input; in this case the user question. In order to find the answer in the vetor database, it embeds the question into a numerical vector. Then it searches the vector database for a numerical vector that is similar in value (which represents semantic similarity). Next it outputs the most similar vector (or multiple vectors) as readable text, as a python string. The string is finally appended to the 'info' key. More on that later.\n",
        "\n",
        "Binary_Response is a function that uses an LLM to decide whether the question will be answered by the output from the vector store. It uses both the original question and the output form the 'Embedding' function. As the name implies, it will always only output 2 options: \"YES\" or \"NO\". The result will be passed to a conditional edge next."
      ]
    },
    {
      "cell_type": "code",
      "execution_count": 3,
      "metadata": {
        "id": "SDARgEpAoHwn"
      },
      "outputs": [],
      "source": [
        "\n",
        "def Embedding(state):\n",
        "    info = state['info']\n",
        "    # Initialize the model\n",
        "    smodel = SentenceTransformer('sentence-transformers/all-MiniLM-L6-v2')\n",
        "\n",
        "    # Initialize the chromadb client and collection\n",
        "    client = chromadb.PersistentClient(path=\"dog\")\n",
        "    collection = client.get_or_create_collection(\"dogdb\")\n",
        "\n",
        "    question = info[0].content\n",
        "    #print(question)\n",
        "\n",
        "    query = [\n",
        "        {'question': f\"{question}\"},\n",
        "    ]\n",
        "    query_embeddings= smodel.encode(query)\n",
        "    embedding_results = collection.query(\n",
        "        query_embeddings=query_embeddings,\n",
        "        n_results=3 # how many results to return. You can change this, but three works well\n",
        "    )\n",
        "    print(embedding_results)\n",
        "    embedding_results = str(embedding_results)\n",
        "    #Prints out the embeddign results. If you only want inference, cancel this line\n",
        "    return {\"info\": [embedding_results]}\n",
        "\n",
        "def Binary_Response(state):\n",
        "    info = state['info']\n",
        "    question = info[0].content\n",
        "    embedding_results = info[1].content\n",
        "\n",
        "    prompt = [{\"role\": \"user\", \"content\": f\"\"\"You are a binary (Yes/No) grader assessing relevance of a retrieved document from a vector store to a user question. The topic is information about dog breeds.\n",
        "        I have provided a retrieved embedding with metadata. Here numbered are the most iportant rules:\n",
        "        1. There needs to be similarity between the dog breed asked and the dog breed in the 'metadatas'or 'documents' section of the retrieved document. it doesnt have to be exact, but the spirit of the breed mentioned has to match.\n",
        "        2. The question about the breed is answered by the actual body text named \"document\" of the retrieved embedding.\n",
        "        You will only ever answer yes or no. Those are the only two words you will answer \\n\n",
        "        Here is the retrieved document: \\n\\n {embedding_results} \\n\\n\n",
        "        Here is the user question: {question} \\n\n",
        "        Give a binary score 'yes' or 'no' score to indicate whether the document is relevant to the question. Your only word should be \"YES\" or \"NO\".\"\"\"}]\n",
        "    #print(prompt)\n",
        "    conditional_results = llm.invoke(prompt).content\n",
        "    print(conditional_results)\n",
        "\n",
        "    return {\"info\": [conditional_results]}\n",
        "\n",
        "\n"
      ]
    },
    {
      "cell_type": "markdown",
      "metadata": {
        "id": "PqRXsAZATTRe"
      },
      "source": [
        "I mentioned a conditional edge above. A conditional edge is an edge that can branch off into one of multiple nodes, while the normal edge only has one option. From the \"Binary_Response\" function, we always recieve either \"YES\" or \"NO\". If \"YES\", this means that the question is answered by the embedding output, thus we can simply send the embedding output and the question to an LLM to clean up the final output. That node is \"LLM_Output\".  If \"NO\", this means that the question was not answered by the embedding output, so we send it to the \"Tavily_Search\" node instead. Tavily is a tool that uses an API call to search a question online and return it as a python string.  \n",
        "\n",
        "The \"next_node\" function is here in case the LLM outputs \"YES\" or \"NO\" with different capitalizations of letters. If it outputs something besides this, it will return \"LLM Conditional Decision Error\" to let me know there is something wrong at \"Binary_Response\" node."
      ]
    },
    {
      "cell_type": "code",
      "execution_count": 4,
      "metadata": {
        "id": "U199mDv60VUL"
      },
      "outputs": [],
      "source": [
        "def next_node(state):\n",
        "    info = state['info']\n",
        "    input_2 = info[-1].content\n",
        "    #print(input_2)\n",
        "\n",
        "    if input_2 == \"YES\" or input_2 == \"Yes\" or input_2 == \"yes\":\n",
        "        return \"LLM_Output\"\n",
        "    if input_2 == \"No\" or input_2 == \"no\" or input_2 == \"NO\":\n",
        "        return \"Tavily_Search\"\n",
        "    else:\n",
        "        return \"LLM Conditional Decision Error\""
      ]
    },
    {
      "cell_type": "markdown",
      "metadata": {
        "id": "ID5_J9K6aG55"
      },
      "source": [
        "The next cell is the result from the conditional edge.\n",
        "\n",
        "\"LLM_Output\" is straightforward; if it got sent to this node, the script will run the \"LLM_Output\" function. It simply passes the \"embedding_results\" and the \"question\" values from the \"info\" dictionary into an LLM prompt to produce the final answer in a clean manner. The RAG application is finished if it goes in this direction.\n",
        "\n",
        "\"Tavily_Search\" uses a search engine that returns a python string for use via an API call. In order to use it you will need an account with Tavily first. Then you can use a LangChain wrapper to easily gather and the results form Tavily. The parameters from TavilySearchResults allow you to change several options, mainly how many results to produce. More options means more information but higher API usage. Finally the output from \"Tavily_Search\" is ran through a for loop in order to clean the results that will be passed through an LLM to answer with this information."
      ]
    },
    {
      "cell_type": "code",
      "execution_count": 5,
      "metadata": {
        "id": "2CY5pKdF2Uns"
      },
      "outputs": [],
      "source": [
        "def LLM_Output(state):\n",
        "    info = state['info']\n",
        "    question = info[0].content\n",
        "    #print(question)\n",
        "    embedding_results = info[1].content\n",
        "    #print(embedding_results)\n",
        "    prompt = [{\"role\": \"user\", \"content\": f\"\"\"After the colon is an embedding with metadata and ID's, with information about dogs, then a question about the given text. Please answer the question based off the text, and do not talk about the documentation:\n",
        "    text - {embedding_results}\n",
        "    question - {question}\n",
        "    Respond in a friendly manner; you are an informational about dogs. Finally do not reference the text itself, such as 'basd off the text', or anything of that sort\"\"\"}]\n",
        "    final_response = llm.invoke(prompt).content\n",
        "    print(final_response)\n",
        "    return {\"info\": [final_response]}\n",
        "\n",
        "def Tavily_Search(state):\n",
        "    #IMPORTANT: The line below is to load the Tavily API_KEY in Google Colab only.\n",
        "    TAVILY_SECRET = userdata.get('TAVILY_KEY')\n",
        "\n",
        "\n",
        "    if not os.environ.get(\"TAVILY_API_KEY\"):\n",
        "        os.environ[\"TAVILY_API_KEY\"] = TAVILY_SECRET\n",
        "    info = state['info']\n",
        "    input_3 = info[0].content\n",
        "    #print(input_3)\n",
        "    tool = TavilySearchResults(\n",
        "    max_results=3,\n",
        "    search_depth=\"advanced\",\n",
        "    include_answer=True,\n",
        "    include_raw_content=False,\n",
        "    include_images=True)\n",
        "    # include_domains=[...],\n",
        "    # exclude_domains=[...],\n",
        "    # name=\"...\",            # overwrite default tool name\n",
        "    # description=\"...\",     # overwrite default tool description\n",
        "    # args_schema=...,       # overwrite default args_schema: BaseModel\n",
        "    results = tool.invoke({\"query\": input_3})\n",
        "    print(results)\n",
        "    content_list = []\n",
        "    # Iterate through the results and print the content portions\n",
        "    for i, result in enumerate(results):\n",
        "        content_list.append(result['content'])\n",
        "    formatted_results = \"|| \".join(content_list)\n",
        "\n",
        "    # Print the formatted results\n",
        "    #print(formatted_results)\n",
        "\n",
        "    # Return the formatted results if needed\n",
        "    return {\"info\": [formatted_results]}\n",
        "\n"
      ]
    },
    {
      "cell_type": "markdown",
      "metadata": {
        "id": "PKcSH5kWdNGC"
      },
      "source": [
        "The final function below simply processes the results from the \"Tavily_Search\" node/function by putting these results into an LLM prompt along the question to get the final output, similar to \"LLM_Output\" previously."
      ]
    },
    {
      "cell_type": "code",
      "execution_count": 6,
      "metadata": {
        "id": "rI1SRczPeFr5"
      },
      "outputs": [],
      "source": [
        "def Tavily_LLM_Output(state):\n",
        "    info = state['info']\n",
        "    tavily_output = info[-1].content\n",
        "    #print(tavily_output)\n",
        "    question = info[0].content\n",
        "\n",
        "    prompt = [{\"role\": \"user\", \"content\": f\"\"\"You are a Large Language Model (LLM). Please answer the question based off the following text:\n",
        "        text - {tavily_output}\n",
        "        question - {question}\n",
        "        If the question is not answered by the text, use your training to answer the question. Finally do not reference the text itself, such as 'basd off the text', or anything of that sort\"\"\"}]\n",
        "    final_response = llm.invoke(prompt).content\n",
        "    print(final_response)\n",
        "    return {\"info\": [final_response]}"
      ]
    },
    {
      "cell_type": "markdown",
      "metadata": {
        "id": "yuhP0LkidtwI"
      },
      "source": [
        "Next up is the structure of the Multi Agent RAG application.  Before we had been simply defining the actions of each step.\n",
        "\n",
        "````\n",
        "class AgentState(TypedDict):\n",
        "    info: Annotated[list, add_messages]\n",
        "````\n",
        "This code defines a state (AgentState) using TypedDict, specifying a structure for the state that will be passed through all nodes in the LangGraph. A state is a snapshot of where your LLM process is; in my case I use it to store information about certain variables to be used at diffrerent points. Another common use is to store conversation data for chatbots. The class above declares that the state will have an 'info' key containing a list. There can be other keys if needed. The Annotated wrapper with 'add_messages' provides metadata about how this list should be handled, indicating that new messages should be appended to it. When using StateGraph from LangGraph, each node function must receive and return this state structure.\n",
        "\n",
        "After that, you create an instance of the AgentState class, then establish the worknode and edges logic. The best way to understand this portion is to see the image displayed when you run the cell below. Basically you assign a name then a function (already defined above) to each node. The edges connect two nodes based off their names, and the conditional edge connects one node with multiple possible outgoing nodes, using a function to decide the logic of which one to choose. Finally, call the compile() method.\n",
        "\n",
        "\n"
      ]
    },
    {
      "cell_type": "code",
      "execution_count": 7,
      "metadata": {
        "colab": {
          "base_uri": "https://localhost:8080/",
          "height": 568
        },
        "id": "JboJPMdj0Q92",
        "outputId": "23681957-8923-454f-9c5a-391501710097"
      },
      "outputs": [
        {
          "data": {
            "image/png": "[encoded data removed]",
            "text/plain": [
              "<IPython.core.display.Image object>"
            ]
          },
          "metadata": {},
          "output_type": "display_data"
        }
      ],
      "source": [
        "class AgentState(TypedDict):\n",
        "    info: Annotated[list, add_messages]\n",
        "\n",
        "\n",
        "# Define a Langchain graph\n",
        "workflow = StateGraph(AgentState)\n",
        "\n",
        "#The first parameter is the name of the node, a name to be used in the edges. The second is the function that will be ran at each respective node.\n",
        "workflow.add_node(\"Embedding\", Embedding)\n",
        "workflow.add_node(\"Binary_Response\", Binary_Response)\n",
        "workflow.add_node(\"Tavily_Search\", Tavily_Search)\n",
        "workflow.add_node(\"Tavily_LLM_Output\",Tavily_LLM_Output)\n",
        "workflow.add_node(\"LLM_Output\", LLM_Output)\n",
        "\n",
        "workflow.add_edge(START, \"Embedding\")\n",
        "workflow.add_edge(\"Embedding\", \"Binary_Response\")\n",
        "workflow.add_conditional_edges(\"Binary_Response\", next_node, {\"Tavily_Search\":\"Tavily_Search\", \"LLM_Output\":\"LLM_Output\"})\n",
        "workflow.add_edge(\"Tavily_Search\", \"Tavily_LLM_Output\")\n",
        "workflow.add_edge(\"Tavily_LLM_Output\", END)\n",
        "workflow.add_edge(\"LLM_Output\", END)\n",
        "\n",
        "\n",
        "RAG = workflow.compile()\n",
        "\n",
        "from IPython.display import Image, display\n",
        "\n",
        "try:\n",
        "    display(Image(RAG.get_graph(xray=True).draw_mermaid_png()))\n",
        "except Exception:\n",
        "    # This requires some extra dependencies and is optional\n",
        "    pass\n",
        "\n"
      ]
    },
    {
      "cell_type": "markdown",
      "metadata": {
        "id": "h9JXHKg7NN14"
      },
      "source": [
        "The very last cell is to run the Multi Agent RAG for inference! Input a question and invoke that question as the first item in the 'info' key. If you want more information about the process, print 'surpress_additional_info'. Otherwise don't change anything so that the only thing that gets printed is what's specified in the node functions to print."
      ]
    },
    {
      "cell_type": "code",
      "execution_count": 9,
      "metadata": {
        "colab": {
          "base_uri": "https://localhost:8080/"
        },
        "id": "CBJFloq00Vmm",
        "outputId": "119abff2-62d9-40e7-8abe-04fea7c08657"
      },
      "outputs": [
        {
          "name": "stdout",
          "output_type": "stream",
          "text": [
            "Ask Dog Question here:  How big do labradors get?\n",
            "{'ids': [['Labrador-Retriever4_21', 'Labrador-Retriever3_8', 'Labrador-Retriever4_10']], 'embeddings': None, 'documents': [['It is worth noting that the size of a Labrador Retrievers as described by the Kennel Club are to be used as guidelines only and that Labs can be smaller or larger they can also weigh a little more or a little less than stated in their breed standard which is to be used as a guideline only.', 'Labs vary in size from 22 to 24.5 inches tall at the shoulder and weigh between 55 and 90 pounds. Females are generally slightly smaller and more lightly built than male Labrador Retrievers. Bench or English Labs are bigger than field labs, so that’s also something to consider when buying from a breeder.', 'The Labrador Retriever is a strongly built medium to large size dog that is broad and deep through the chest and ribs. They possess strong and compact webbed feet which are perfect for the hours Labrador Retrievers generally enjoy spending in water and marshlands. Their coats are thick dense and extremely water-resistant perfect for the environments they were bred to work in and they boast otter-like tails.']], 'uris': None, 'data': None, 'metadatas': [[{'breed': 'Labrador-Retriever'}, {'breed': 'Labrador-Retriever'}, {'breed': 'Labrador-Retriever'}]], 'distances': [[0.6098225116729736, 0.6375703811645508, 0.6810251474380493]], 'included': [<IncludeEnum.distances: 'distances'>, <IncludeEnum.documents: 'documents'>, <IncludeEnum.metadatas: 'metadatas'>]}\n",
            "YES\n",
            "Labrador Retrievers are amazing dogs! When it comes to size, they can vary a bit, but on average, they typically grow between 22 and 24.5 inches tall at the shoulder. As for weight, they usually weigh between 55 and 90 pounds. Females tend to be slightly smaller and more lightly built than males, while bench or English Labs are generally bigger than field Labs.\n"
          ]
        }
      ],
      "source": [
        "user_input = input(\"Ask Dog Question here:  \")\n",
        "supress_additional_info = RAG.invoke({\"info\": [user_input]}) #Google colab automatically prints the last line. If you want the metadata simply do RAG.invoke({\"info\": [user_input]})\n",
        "#As mentioned above, \"YES\" means the an embedding from the vectore database will be used. \"NO\" means that the vector database will not be used, and instead will go the Tavily search route"
      ]
    }
  ],
  "metadata": {
    "accelerator": "GPU",
    "colab": {
      "gpuType": "T4",
      "provenance": []
    },
    "kernelspec": {
      "display_name": "Python 3",
      "name": "python3"
    },
    "language_info": {
      "name": "python"
    }
  },
  "nbformat": 4,
  "nbformat_minor": 0
}
