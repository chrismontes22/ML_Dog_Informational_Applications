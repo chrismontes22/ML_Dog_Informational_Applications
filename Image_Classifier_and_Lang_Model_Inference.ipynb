{
  "nbformat": 4,
  "nbformat_minor": 0,
  "metadata": {
    "colab": {
      "provenance": [],
      "gpuType": "T4"
    },
    "kernelspec": {
      "name": "python3",
      "display_name": "Python 3"
    },
    "language_info": {
      "name": "python"
    },
    "widgets": {
      "application/vnd.jupyter.widget-state+json": {
        "0df0809319444372b01660950500633c": {
          "model_module": "@jupyter-widgets/controls",
          "model_name": "HBoxModel",
          "model_module_version": "1.5.0",
          "state": {
            "_dom_classes": [],
            "_model_module": "@jupyter-widgets/controls",
            "_model_module_version": "1.5.0",
            "_model_name": "HBoxModel",
            "_view_count": null,
            "_view_module": "@jupyter-widgets/controls",
            "_view_module_version": "1.5.0",
            "_view_name": "HBoxView",
            "box_style": "",
            "children": [
              "IPY_MODEL_b8a1ac24c946423d937f7bc7b4d5b964",
              "IPY_MODEL_69cd1829aea84b9c9b4afca0ab3fab9d",
              "IPY_MODEL_fcea2fc09b7148028fb8a3bcf7458540"
            ],
            "layout": "IPY_MODEL_edb25af117a848bea206379c2a3fd07e"
          }
        },
        "b8a1ac24c946423d937f7bc7b4d5b964": {
          "model_module": "@jupyter-widgets/controls",
          "model_name": "HTMLModel",
          "model_module_version": "1.5.0",
          "state": {
            "_dom_classes": [],
            "_model_module": "@jupyter-widgets/controls",
            "_model_module_version": "1.5.0",
            "_model_name": "HTMLModel",
            "_view_count": null,
            "_view_module": "@jupyter-widgets/controls",
            "_view_module_version": "1.5.0",
            "_view_name": "HTMLView",
            "description": "",
            "description_tooltip": null,
            "layout": "IPY_MODEL_6a2488e087834f06b1ace906b1c555c9",
            "placeholder": "​",
            "style": "IPY_MODEL_9bbdc0bbff39449b907929fab7413dc6",
            "value": "model.safetensors: 100%"
          }
        },
        "69cd1829aea84b9c9b4afca0ab3fab9d": {
          "model_module": "@jupyter-widgets/controls",
          "model_name": "FloatProgressModel",
          "model_module_version": "1.5.0",
          "state": {
            "_dom_classes": [],
            "_model_module": "@jupyter-widgets/controls",
            "_model_module_version": "1.5.0",
            "_model_name": "FloatProgressModel",
            "_view_count": null,
            "_view_module": "@jupyter-widgets/controls",
            "_view_module_version": "1.5.0",
            "_view_name": "ProgressView",
            "bar_style": "danger",
            "description": "",
            "description_tooltip": null,
            "layout": "IPY_MODEL_9d9a46c45b904063ad7396b596b17bf4",
            "max": 5702746405,
            "min": 0,
            "orientation": "horizontal",
            "style": "IPY_MODEL_6321d185dc1f4cdf910e5fca0517a1a2",
            "value": 5702745862
          }
        },
        "fcea2fc09b7148028fb8a3bcf7458540": {
          "model_module": "@jupyter-widgets/controls",
          "model_name": "HTMLModel",
          "model_module_version": "1.5.0",
          "state": {
            "_dom_classes": [],
            "_model_module": "@jupyter-widgets/controls",
            "_model_module_version": "1.5.0",
            "_model_name": "HTMLModel",
            "_view_count": null,
            "_view_module": "@jupyter-widgets/controls",
            "_view_module_version": "1.5.0",
            "_view_name": "HTMLView",
            "description": "",
            "description_tooltip": null,
            "layout": "IPY_MODEL_9a115f278c064f219c7abf9d905a321e",
            "placeholder": "​",
            "style": "IPY_MODEL_c029fb96c19e47729445c622875f197b",
            "value": " 5.70G/5.70G [00:29&lt;00:00, 410MB/s]"
          }
        },
        "edb25af117a848bea206379c2a3fd07e": {
          "model_module": "@jupyter-widgets/base",
          "model_name": "LayoutModel",
          "model_module_version": "1.2.0",
          "state": {
            "_model_module": "@jupyter-widgets/base",
            "_model_module_version": "1.2.0",
            "_model_name": "LayoutModel",
            "_view_count": null,
            "_view_module": "@jupyter-widgets/base",
            "_view_module_version": "1.2.0",
            "_view_name": "LayoutView",
            "align_content": null,
            "align_items": null,
            "align_self": null,
            "border": null,
            "bottom": null,
            "display": null,
            "flex": null,
            "flex_flow": null,
            "grid_area": null,
            "grid_auto_columns": null,
            "grid_auto_flow": null,
            "grid_auto_rows": null,
            "grid_column": null,
            "grid_gap": null,
            "grid_row": null,
            "grid_template_areas": null,
            "grid_template_columns": null,
            "grid_template_rows": null,
            "height": null,
            "justify_content": null,
            "justify_items": null,
            "left": null,
            "margin": null,
            "max_height": null,
            "max_width": null,
            "min_height": null,
            "min_width": null,
            "object_fit": null,
            "object_position": null,
            "order": null,
            "overflow": null,
            "overflow_x": null,
            "overflow_y": null,
            "padding": null,
            "right": null,
            "top": null,
            "visibility": null,
            "width": null
          }
        },
        "6a2488e087834f06b1ace906b1c555c9": {
          "model_module": "@jupyter-widgets/base",
          "model_name": "LayoutModel",
          "model_module_version": "1.2.0",
          "state": {
            "_model_module": "@jupyter-widgets/base",
            "_model_module_version": "1.2.0",
            "_model_name": "LayoutModel",
            "_view_count": null,
            "_view_module": "@jupyter-widgets/base",
            "_view_module_version": "1.2.0",
            "_view_name": "LayoutView",
            "align_content": null,
            "align_items": null,
            "align_self": null,
            "border": null,
            "bottom": null,
            "display": null,
            "flex": null,
            "flex_flow": null,
            "grid_area": null,
            "grid_auto_columns": null,
            "grid_auto_flow": null,
            "grid_auto_rows": null,
            "grid_column": null,
            "grid_gap": null,
            "grid_row": null,
            "grid_template_areas": null,
            "grid_template_columns": null,
            "grid_template_rows": null,
            "height": null,
            "justify_content": null,
            "justify_items": null,
            "left": null,
            "margin": null,
            "max_height": null,
            "max_width": null,
            "min_height": null,
            "min_width": null,
            "object_fit": null,
            "object_position": null,
            "order": null,
            "overflow": null,
            "overflow_x": null,
            "overflow_y": null,
            "padding": null,
            "right": null,
            "top": null,
            "visibility": null,
            "width": null
          }
        },
        "9bbdc0bbff39449b907929fab7413dc6": {
          "model_module": "@jupyter-widgets/controls",
          "model_name": "DescriptionStyleModel",
          "model_module_version": "1.5.0",
          "state": {
            "_model_module": "@jupyter-widgets/controls",
            "_model_module_version": "1.5.0",
            "_model_name": "DescriptionStyleModel",
            "_view_count": null,
            "_view_module": "@jupyter-widgets/base",
            "_view_module_version": "1.2.0",
            "_view_name": "StyleView",
            "description_width": ""
          }
        },
        "9d9a46c45b904063ad7396b596b17bf4": {
          "model_module": "@jupyter-widgets/base",
          "model_name": "LayoutModel",
          "model_module_version": "1.2.0",
          "state": {
            "_model_module": "@jupyter-widgets/base",
            "_model_module_version": "1.2.0",
            "_model_name": "LayoutModel",
            "_view_count": null,
            "_view_module": "@jupyter-widgets/base",
            "_view_module_version": "1.2.0",
            "_view_name": "LayoutView",
            "align_content": null,
            "align_items": null,
            "align_self": null,
            "border": null,
            "bottom": null,
            "display": null,
            "flex": null,
            "flex_flow": null,
            "grid_area": null,
            "grid_auto_columns": null,
            "grid_auto_flow": null,
            "grid_auto_rows": null,
            "grid_column": null,
            "grid_gap": null,
            "grid_row": null,
            "grid_template_areas": null,
            "grid_template_columns": null,
            "grid_template_rows": null,
            "height": null,
            "justify_content": null,
            "justify_items": null,
            "left": null,
            "margin": null,
            "max_height": null,
            "max_width": null,
            "min_height": null,
            "min_width": null,
            "object_fit": null,
            "object_position": null,
            "order": null,
            "overflow": null,
            "overflow_x": null,
            "overflow_y": null,
            "padding": null,
            "right": null,
            "top": null,
            "visibility": null,
            "width": null
          }
        },
        "6321d185dc1f4cdf910e5fca0517a1a2": {
          "model_module": "@jupyter-widgets/controls",
          "model_name": "ProgressStyleModel",
          "model_module_version": "1.5.0",
          "state": {
            "_model_module": "@jupyter-widgets/controls",
            "_model_module_version": "1.5.0",
            "_model_name": "ProgressStyleModel",
            "_view_count": null,
            "_view_module": "@jupyter-widgets/base",
            "_view_module_version": "1.2.0",
            "_view_name": "StyleView",
            "bar_color": null,
            "description_width": ""
          }
        },
        "9a115f278c064f219c7abf9d905a321e": {
          "model_module": "@jupyter-widgets/base",
          "model_name": "LayoutModel",
          "model_module_version": "1.2.0",
          "state": {
            "_model_module": "@jupyter-widgets/base",
            "_model_module_version": "1.2.0",
            "_model_name": "LayoutModel",
            "_view_count": null,
            "_view_module": "@jupyter-widgets/base",
            "_view_module_version": "1.2.0",
            "_view_name": "LayoutView",
            "align_content": null,
            "align_items": null,
            "align_self": null,
            "border": null,
            "bottom": null,
            "display": null,
            "flex": null,
            "flex_flow": null,
            "grid_area": null,
            "grid_auto_columns": null,
            "grid_auto_flow": null,
            "grid_auto_rows": null,
            "grid_column": null,
            "grid_gap": null,
            "grid_row": null,
            "grid_template_areas": null,
            "grid_template_columns": null,
            "grid_template_rows": null,
            "height": null,
            "justify_content": null,
            "justify_items": null,
            "left": null,
            "margin": null,
            "max_height": null,
            "max_width": null,
            "min_height": null,
            "min_width": null,
            "object_fit": null,
            "object_position": null,
            "order": null,
            "overflow": null,
            "overflow_x": null,
            "overflow_y": null,
            "padding": null,
            "right": null,
            "top": null,
            "visibility": null,
            "width": null
          }
        },
        "c029fb96c19e47729445c622875f197b": {
          "model_module": "@jupyter-widgets/controls",
          "model_name": "DescriptionStyleModel",
          "model_module_version": "1.5.0",
          "state": {
            "_model_module": "@jupyter-widgets/controls",
            "_model_module_version": "1.5.0",
            "_model_name": "DescriptionStyleModel",
            "_view_count": null,
            "_view_module": "@jupyter-widgets/base",
            "_view_module_version": "1.2.0",
            "_view_name": "StyleView",
            "description_width": ""
          }
        },
        "fbd9f3e5e7e14471b8c283e1035cef81": {
          "model_module": "@jupyter-widgets/controls",
          "model_name": "HBoxModel",
          "model_module_version": "1.5.0",
          "state": {
            "_dom_classes": [],
            "_model_module": "@jupyter-widgets/controls",
            "_model_module_version": "1.5.0",
            "_model_name": "HBoxModel",
            "_view_count": null,
            "_view_module": "@jupyter-widgets/controls",
            "_view_module_version": "1.5.0",
            "_view_name": "HBoxView",
            "box_style": "",
            "children": [
              "IPY_MODEL_4273c21b37f6445681ae856ce2169521",
              "IPY_MODEL_f27af0c4379c4ae89430177a76a83538",
              "IPY_MODEL_304bb5b6910748aaba4e85a03ddbb931"
            ],
            "layout": "IPY_MODEL_493686d0b239456dae5aed1c877ae58d"
          }
        },
        "4273c21b37f6445681ae856ce2169521": {
          "model_module": "@jupyter-widgets/controls",
          "model_name": "HTMLModel",
          "model_module_version": "1.5.0",
          "state": {
            "_dom_classes": [],
            "_model_module": "@jupyter-widgets/controls",
            "_model_module_version": "1.5.0",
            "_model_name": "HTMLModel",
            "_view_count": null,
            "_view_module": "@jupyter-widgets/controls",
            "_view_module_version": "1.5.0",
            "_view_name": "HTMLView",
            "description": "",
            "description_tooltip": null,
            "layout": "IPY_MODEL_a6233ad1c0fb460a8a8ed551920f80f4",
            "placeholder": "​",
            "style": "IPY_MODEL_88a59b3b747a4eb4b124ee6daf294e38",
            "value": "generation_config.json: 100%"
          }
        },
        "f27af0c4379c4ae89430177a76a83538": {
          "model_module": "@jupyter-widgets/controls",
          "model_name": "FloatProgressModel",
          "model_module_version": "1.5.0",
          "state": {
            "_dom_classes": [],
            "_model_module": "@jupyter-widgets/controls",
            "_model_module_version": "1.5.0",
            "_model_name": "FloatProgressModel",
            "_view_count": null,
            "_view_module": "@jupyter-widgets/controls",
            "_view_module_version": "1.5.0",
            "_view_name": "ProgressView",
            "bar_style": "success",
            "description": "",
            "description_tooltip": null,
            "layout": "IPY_MODEL_1c5a9caff4184fc191cd334b2d6f17b3",
            "max": 198,
            "min": 0,
            "orientation": "horizontal",
            "style": "IPY_MODEL_a9252ed9d40c4d1a9ab7173dc6781569",
            "value": 198
          }
        },
        "304bb5b6910748aaba4e85a03ddbb931": {
          "model_module": "@jupyter-widgets/controls",
          "model_name": "HTMLModel",
          "model_module_version": "1.5.0",
          "state": {
            "_dom_classes": [],
            "_model_module": "@jupyter-widgets/controls",
            "_model_module_version": "1.5.0",
            "_model_name": "HTMLModel",
            "_view_count": null,
            "_view_module": "@jupyter-widgets/controls",
            "_view_module_version": "1.5.0",
            "_view_name": "HTMLView",
            "description": "",
            "description_tooltip": null,
            "layout": "IPY_MODEL_5b177483cee8400d94a5f7ce4f9df317",
            "placeholder": "​",
            "style": "IPY_MODEL_58f6c4e15dce4ebaa2c3077a30ce83a3",
            "value": " 198/198 [00:00&lt;00:00, 12.7kB/s]"
          }
        },
        "493686d0b239456dae5aed1c877ae58d": {
          "model_module": "@jupyter-widgets/base",
          "model_name": "LayoutModel",
          "model_module_version": "1.2.0",
          "state": {
            "_model_module": "@jupyter-widgets/base",
            "_model_module_version": "1.2.0",
            "_model_name": "LayoutModel",
            "_view_count": null,
            "_view_module": "@jupyter-widgets/base",
            "_view_module_version": "1.2.0",
            "_view_name": "LayoutView",
            "align_content": null,
            "align_items": null,
            "align_self": null,
            "border": null,
            "bottom": null,
            "display": null,
            "flex": null,
            "flex_flow": null,
            "grid_area": null,
            "grid_auto_columns": null,
            "grid_auto_flow": null,
            "grid_auto_rows": null,
            "grid_column": null,
            "grid_gap": null,
            "grid_row": null,
            "grid_template_areas": null,
            "grid_template_columns": null,
            "grid_template_rows": null,
            "height": null,
            "justify_content": null,
            "justify_items": null,
            "left": null,
            "margin": null,
            "max_height": null,
            "max_width": null,
            "min_height": null,
            "min_width": null,
            "object_fit": null,
            "object_position": null,
            "order": null,
            "overflow": null,
            "overflow_x": null,
            "overflow_y": null,
            "padding": null,
            "right": null,
            "top": null,
            "visibility": null,
            "width": null
          }
        },
        "a6233ad1c0fb460a8a8ed551920f80f4": {
          "model_module": "@jupyter-widgets/base",
          "model_name": "LayoutModel",
          "model_module_version": "1.2.0",
          "state": {
            "_model_module": "@jupyter-widgets/base",
            "_model_module_version": "1.2.0",
            "_model_name": "LayoutModel",
            "_view_count": null,
            "_view_module": "@jupyter-widgets/base",
            "_view_module_version": "1.2.0",
            "_view_name": "LayoutView",
            "align_content": null,
            "align_items": null,
            "align_self": null,
            "border": null,
            "bottom": null,
            "display": null,
            "flex": null,
            "flex_flow": null,
            "grid_area": null,
            "grid_auto_columns": null,
            "grid_auto_flow": null,
            "grid_auto_rows": null,
            "grid_column": null,
            "grid_gap": null,
            "grid_row": null,
            "grid_template_areas": null,
            "grid_template_columns": null,
            "grid_template_rows": null,
            "height": null,
            "justify_content": null,
            "justify_items": null,
            "left": null,
            "margin": null,
            "max_height": null,
            "max_width": null,
            "min_height": null,
            "min_width": null,
            "object_fit": null,
            "object_position": null,
            "order": null,
            "overflow": null,
            "overflow_x": null,
            "overflow_y": null,
            "padding": null,
            "right": null,
            "top": null,
            "visibility": null,
            "width": null
          }
        },
        "88a59b3b747a4eb4b124ee6daf294e38": {
          "model_module": "@jupyter-widgets/controls",
          "model_name": "DescriptionStyleModel",
          "model_module_version": "1.5.0",
          "state": {
            "_model_module": "@jupyter-widgets/controls",
            "_model_module_version": "1.5.0",
            "_model_name": "DescriptionStyleModel",
            "_view_count": null,
            "_view_module": "@jupyter-widgets/base",
            "_view_module_version": "1.2.0",
            "_view_name": "StyleView",
            "description_width": ""
          }
        },
        "1c5a9caff4184fc191cd334b2d6f17b3": {
          "model_module": "@jupyter-widgets/base",
          "model_name": "LayoutModel",
          "model_module_version": "1.2.0",
          "state": {
            "_model_module": "@jupyter-widgets/base",
            "_model_module_version": "1.2.0",
            "_model_name": "LayoutModel",
            "_view_count": null,
            "_view_module": "@jupyter-widgets/base",
            "_view_module_version": "1.2.0",
            "_view_name": "LayoutView",
            "align_content": null,
            "align_items": null,
            "align_self": null,
            "border": null,
            "bottom": null,
            "display": null,
            "flex": null,
            "flex_flow": null,
            "grid_area": null,
            "grid_auto_columns": null,
            "grid_auto_flow": null,
            "grid_auto_rows": null,
            "grid_column": null,
            "grid_gap": null,
            "grid_row": null,
            "grid_template_areas": null,
            "grid_template_columns": null,
            "grid_template_rows": null,
            "height": null,
            "justify_content": null,
            "justify_items": null,
            "left": null,
            "margin": null,
            "max_height": null,
            "max_width": null,
            "min_height": null,
            "min_width": null,
            "object_fit": null,
            "object_position": null,
            "order": null,
            "overflow": null,
            "overflow_x": null,
            "overflow_y": null,
            "padding": null,
            "right": null,
            "top": null,
            "visibility": null,
            "width": null
          }
        },
        "a9252ed9d40c4d1a9ab7173dc6781569": {
          "model_module": "@jupyter-widgets/controls",
          "model_name": "ProgressStyleModel",
          "model_module_version": "1.5.0",
          "state": {
            "_model_module": "@jupyter-widgets/controls",
            "_model_module_version": "1.5.0",
            "_model_name": "ProgressStyleModel",
            "_view_count": null,
            "_view_module": "@jupyter-widgets/base",
            "_view_module_version": "1.2.0",
            "_view_name": "StyleView",
            "bar_color": null,
            "description_width": ""
          }
        },
        "5b177483cee8400d94a5f7ce4f9df317": {
          "model_module": "@jupyter-widgets/base",
          "model_name": "LayoutModel",
          "model_module_version": "1.2.0",
          "state": {
            "_model_module": "@jupyter-widgets/base",
            "_model_module_version": "1.2.0",
            "_model_name": "LayoutModel",
            "_view_count": null,
            "_view_module": "@jupyter-widgets/base",
            "_view_module_version": "1.2.0",
            "_view_name": "LayoutView",
            "align_content": null,
            "align_items": null,
            "align_self": null,
            "border": null,
            "bottom": null,
            "display": null,
            "flex": null,
            "flex_flow": null,
            "grid_area": null,
            "grid_auto_columns": null,
            "grid_auto_flow": null,
            "grid_auto_rows": null,
            "grid_column": null,
            "grid_gap": null,
            "grid_row": null,
            "grid_template_areas": null,
            "grid_template_columns": null,
            "grid_template_rows": null,
            "height": null,
            "justify_content": null,
            "justify_items": null,
            "left": null,
            "margin": null,
            "max_height": null,
            "max_width": null,
            "min_height": null,
            "min_width": null,
            "object_fit": null,
            "object_position": null,
            "order": null,
            "overflow": null,
            "overflow_x": null,
            "overflow_y": null,
            "padding": null,
            "right": null,
            "top": null,
            "visibility": null,
            "width": null
          }
        },
        "58f6c4e15dce4ebaa2c3077a30ce83a3": {
          "model_module": "@jupyter-widgets/controls",
          "model_name": "DescriptionStyleModel",
          "model_module_version": "1.5.0",
          "state": {
            "_model_module": "@jupyter-widgets/controls",
            "_model_module_version": "1.5.0",
            "_model_name": "DescriptionStyleModel",
            "_view_count": null,
            "_view_module": "@jupyter-widgets/base",
            "_view_module_version": "1.2.0",
            "_view_name": "StyleView",
            "description_width": ""
          }
        }
      }
    },
    "accelerator": "GPU"
  },
  "cells": [
    {
      "cell_type": "markdown",
      "source": [
        "Here is the full model for Google Colab. It classifies the dog breed on an image, then based off the answer it passes that dog breed into the language model to output a naturally spoken fact about said breed. The image classification model should run on any CPU, but the language model requires a CUDA GPU. The code below also records the softmax values of the model's top 3 and the answer the user was expecting in a CSV file."
      ],
      "metadata": {
        "id": "EbjZLk6CTr_e"
      }
    },
    {
      "cell_type": "markdown",
      "source": [
        "<font color='red'>First you need to install the dependencies for the language model. You can do so by running the cell bellow. If you do not have a CUDA GPU, you can skip this cell. Given that you are most likely doing this in Google Colab, you can access a GPU by clicking on the triangle pointing downward under \"Comment\" in the top left corner, then going to \"Change Runtime Type\" and choosing the \"T4 GPU\"."
      ],
      "metadata": {
        "id": "pT6lpNU6UT33"
      }
    },
    {
      "cell_type": "code",
      "source": [
        "%%capture\n",
        "# Installs Unsloth, Xformers (Flash Attention) and all other packages!\n",
        "!pip install \"unsloth[colab-new] @ git+https://github.com/unslothai/unsloth.git\"\n",
        "!pip install xformers trl peft accelerate triton bitsandbytes #keep an eye out on the xformers version. Usually you want one version before the latest; causes errors often"
      ],
      "metadata": {
        "id": "69ThFkU0U0LT"
      },
      "execution_count": 1,
      "outputs": []
    },
    {
      "cell_type": "markdown",
      "source": [
        "You will need LoRA adapters and a pytorch dictionary file (.pth) for image calssification. The cell below downloads them from a Google Drive. The last four lines download a couple of images to test around as well.\n",
        "\n",
        "<font color='red'>Run the cell to get the adapters and pytorch dictionary. If you have your own images of a dog instead feel free to erase the last four lines here."
      ],
      "metadata": {
        "id": "OeILsjvwgl2e"
      }
    },
    {
      "cell_type": "code",
      "source": [
        "import gdown\n",
        "\n",
        "#Download the folder containg the LoRA adapters\n",
        "url = \"https://drive.google.com/drive/folders/1cf-XTMMZb42k5bs3AR3xMRs9V5koXZnQ\"\n",
        "gdown.download_folder(url, quiet=True, use_cookies=False)\n",
        "\n",
        "#Download the .pth image model\n",
        "url = 'https://drive.google.com/file/d/1ABhX5RLxh_-OSubYhwV7RhgqeeaHYOpl/view?usp=sharing'\n",
        "output_path = 'DogImageModel.pth'\n",
        "gdown.download(url, output_path, quiet=False,fuzzy=True)\n",
        "\n",
        "#Download the Dog_List.txt\n",
        "url = 'https://drive.google.com/file/d/13Va0eqByu_CiR1O3xXO-OZLfJjY8NwwM/view?usp=sharing'\n",
        "output_path = 'Dog_List.txt'\n",
        "gdown.download(url, output_path, quiet=False,fuzzy=True)\n",
        "\n",
        "#Download some sample images to try the model on\n",
        "gdown.download('https://drive.google.com/file/d/1PLTSwWyPoMwgxBU9gTwDoYSzokqAJdVF/view?usp=sharing', 'Dogpic1.jpg', quiet=False,fuzzy=True)\n",
        "gdown.download('https://drive.google.com/file/d/1LDp6ru_AhUQd4pHecIBMqyiw2tQdKpfe/view?usp=sharing', 'Dogpic2.jpg', quiet=False,fuzzy=True)\n",
        "gdown.download('https://drive.google.com/file/d/1uA2HJknMZyeR8X3vVvJgTq8pJAmCzaCp/view?usp=sharing', 'Dogpic3.jpg', quiet=False,fuzzy=True)\n",
        "gdown.download('https://drive.google.com/file/d/1kY5cxn7bTtNm2waDn9hPxg6E5rC7UZYS/view?usp=sharing', 'Dogpic4.jpg', quiet=False,fuzzy=True)"
      ],
      "metadata": {
        "id": "5VLagOTr_b4w",
        "colab": {
          "base_uri": "https://localhost:8080/",
          "height": 503
        },
        "outputId": "65f6bc88-344d-407b-eb81-f4a7f3e98607"
      },
      "execution_count": 2,
      "outputs": [
        {
          "output_type": "stream",
          "name": "stderr",
          "text": [
            "Downloading...\n",
            "From (original): https://drive.google.com/uc?id=1ABhX5RLxh_-OSubYhwV7RhgqeeaHYOpl\n",
            "From (redirected): https://drive.google.com/uc?id=1ABhX5RLxh_-OSubYhwV7RhgqeeaHYOpl&confirm=t&uuid=8fb5c8c6-1d76-4e2d-87a7-87efb6e822bf\n",
            "To: /content/DogImageModel.pth\n",
            "100%|██████████| 44.9M/44.9M [00:00<00:00, 58.5MB/s]\n",
            "Downloading...\n",
            "From: https://drive.google.com/uc?id=13Va0eqByu_CiR1O3xXO-OZLfJjY8NwwM\n",
            "To: /content/Dog_List.txt\n",
            "100%|██████████| 1.10k/1.10k [00:00<00:00, 2.13MB/s]\n",
            "Downloading...\n",
            "From: https://drive.google.com/uc?id=1PLTSwWyPoMwgxBU9gTwDoYSzokqAJdVF\n",
            "To: /content/Dogpic1.jpg\n",
            "100%|██████████| 155k/155k [00:00<00:00, 70.8MB/s]\n",
            "Downloading...\n",
            "From: https://drive.google.com/uc?id=1LDp6ru_AhUQd4pHecIBMqyiw2tQdKpfe\n",
            "To: /content/Dogpic2.jpg\n",
            "100%|██████████| 41.8k/41.8k [00:00<00:00, 64.6MB/s]\n",
            "Downloading...\n",
            "From: https://drive.google.com/uc?id=1uA2HJknMZyeR8X3vVvJgTq8pJAmCzaCp\n",
            "To: /content/Dogpic3.jpg\n",
            "100%|██████████| 80.8k/80.8k [00:00<00:00, 43.7MB/s]\n",
            "Downloading...\n",
            "From: https://drive.google.com/uc?id=1kY5cxn7bTtNm2waDn9hPxg6E5rC7UZYS\n",
            "To: /content/Dogpic4.jpg\n",
            "100%|██████████| 91.5k/91.5k [00:00<00:00, 45.4MB/s]\n"
          ]
        },
        {
          "output_type": "execute_result",
          "data": {
            "text/plain": [
              "'Dogpic4.jpg'"
            ],
            "application/vnd.google.colaboratory.intrinsic+json": {
              "type": "string"
            }
          },
          "metadata": {},
          "execution_count": 2
        }
      ]
    },
    {
      "cell_type": "markdown",
      "source": [
        "Down below is the script to load and run the dog classification model. If a CUDA GPU model is available, it will also load the language model here. It is device agnostic so it will automatically detect CUDA.\n",
        "\n",
        "<font color='red'>Focusing on the image_path variable, feel free  to use one of the images provided by the download above (Dogpic1.jpg - Dogpic.jpg4). You can also use your own photo of a dog from the selected dog breed list. If you choose to use your own photo, make sure to upload it and adjust the image_path to wherever your photo is saved in the Colab files (Google Colab ownly allows temporary uploads so it will be erased at the end of your runtime). You might need to change the extension to .jpg before uploading. After you have uploaded and adjusted the image_path variable appropriately, you can run the cell."
      ],
      "metadata": {
        "id": "64hmGBIqUl8E"
      }
    },
    {
      "cell_type": "code",
      "source": [
        "#Specify the path to your image here in the Google Colab notebook. You can copy the path by right clicking on the file you want to use. Usually an uploaded image is found in the /content folder\n",
        "image_path = '/content/Dogpic1.jpg'\n",
        "early_stop = False #The scripts allows for manual input of a dog breed if the breed isn't in the top three. \"early_stop\" controls whether you want to allow the user to run the LLM after manual input.\n",
        "                   #True stops the code from runing the LLM for a fun fact; False allows the user to get a random fat based off the manually inputed dog breed\n",
        "\n",
        "import torch\n",
        "from PIL import Image\n",
        "from torchvision.transforms import v2\n",
        "import torchvision.models as models\n",
        "import os\n",
        "\n",
        "# Load the pre-trained model that was used in the training script. In this case it was ResNet18 model\n",
        "model = models.resnet18()\n",
        "\n",
        "# Modify the final fully connected layer to have 73 output classes, same as in the training script\n",
        "num_ftrs = model.fc.in_features\n",
        "model.fc = torch.nn.Linear(num_ftrs, 73)\n",
        "\n",
        "# Directory to load the .pth file that was acreated by the training script\n",
        "model.load_state_dict(torch.load('/content/DogImageModel.pth', map_location=torch.device('cpu')))\n",
        "\n",
        "# Set the model to evaluation mode\n",
        "model.eval()\n",
        "\n",
        "# Automatically detect the available device (CPU or GPU)\n",
        "device = torch.device(\"cuda\" if torch.cuda.is_available() else \"cpu\")\n",
        "model.to(device)\n",
        "\n",
        "#Open a specified image\n",
        "image = Image.open(image_path)\n",
        "\n",
        "#Open the first file in a folder directory with the specified filetypes\n",
        "\"\"\"image = Image.open(next((f for f in os.listdir('/content/') if f.endswith(('.jpg', '.jpeg', '.png', '.webp', 'bmp'))), None))\"\"\"\n",
        "\n",
        "#Transforms the images to how they were tested for the model to read for inference. Keep Exactly the same as the transformation for the test and valid sets. No randomizing here!\n",
        "transforms_test = v2.Compose([\n",
        "    v2.Resize((224, 224), antialias=True),\n",
        "    v2.CenterCrop((224, 224)),\n",
        "    v2.ToImage(),\n",
        "    v2.ToDtype(torch.float32, scale=True),\n",
        "    v2.Normalize([0.485, 0.456, 0.406], [0.229, 0.224, 0.225])\n",
        "])\n",
        "\n",
        "#Apply the transformation to your image\n",
        "transformed_img = transforms_test(image)\n",
        "\n",
        "# Add a batch dimension (1, 3, 224, 224)\n",
        "transformed_img = transformed_img.unsqueeze(0).to(device)  # Move data to device\n",
        "\n",
        "output = model(transformed_img)\n",
        "\n",
        "with open('Dog_List.txt', 'r') as f:\n",
        "    labels = [line.strip() for line in f.readlines()]\n",
        "\n",
        "#I have the breed_nicknames dictionary set because some breeds arent recognized that much by the official breed, such as the ones below.\n",
        "breed_nicknames = {\n",
        "    'Xoloitzcuintli': ' (Mexican Hairless)',\n",
        "    'Staffordshire-Bull-Terrier': ' (Pitbull)',\n",
        "    'Pembroke-Welsh-Corgi': ' (Corgi)',}\n",
        "\n",
        "\n",
        "# Apply softmax to get probabilities\n",
        "output_softmax = torch.nn.functional.softmax(output, dim=1)\n",
        "\n",
        "# Get the top 3 predictions by using pytorch to find the Top-3 K values\n",
        "topk_values, topk_indices = torch.topk(output_softmax, 3)\n",
        "topk_indices = topk_indices.tolist()[0]  # Convert tensor to list of integers\n",
        "topk_labels = [labels[index] for index in topk_indices] # Use the indices to get the labels. This turns the highest three values in the tensor into the labels of the dog breeds\n",
        "\n",
        "# Print all probabilities. This is useful if you would like to record all of the labels for more detailed data.\n",
        "\"\"\"for i, prob in enumerate(output_softmax.tolist()[0]):\n",
        "    print(f\"{labels[i]}: {prob:.4f}\")\"\"\"\n",
        "\n",
        "print(\"Choose a dog breed:\")\n",
        "\n",
        "\n",
        "#For data feedback, this is a function to save user data. It saves the probabilities of the Top-3, their respective labels, and the label specified by the user\n",
        "def save_answer(answer, label=None):\n",
        "    filename = \"user_answers.csv\"\n",
        "    if not os.path.exists(filename):\n",
        "        open(filename, 'w').close()  # Create file if it doesn't exist with the categories as the first row, then closes it\n",
        "        with open(filename, 'w') as file:\n",
        "            file.write(\"Probability 1, Probability 2, Probability 3, Label Rank 1, Label Rank 2, Label Rank 3, User Label, Top-3?\\n\") #The categories to be written at teh top if the file does not exist\n",
        "\n",
        "    probabilities = ', '.join(map(str, topk_values.tolist())).strip('[]')\n",
        "    labels = ', '.join(topk_labels)\n",
        "    correct_label = label if label else answer\n",
        "    top3 = 'Y' if int(answer) in range(1, 4) else 'N'  # Check if answer is in top 3\n",
        "\n",
        "    with open(filename, 'a') as file:  # Append the user results\n",
        "        file.write(f\"{probabilities}, {labels}, {correct_label}, {top3}\\n\")\n",
        "\n",
        "#While loop that repeatedly prompts user for dog breed choice until the user provides a valid response.\n",
        "while True:\n",
        "    for i, label in enumerate(topk_labels):\n",
        "        # Check if the breed has a nickname, then print it with the nickname in parantheses\n",
        "        if label in breed_nicknames:\n",
        "            print(f\"{i+1}. {label}{breed_nicknames[label]}\")\n",
        "        else:\n",
        "            print(f\"{i+1}. {label}\")\n",
        "    print(\"4. None of these.\")\n",
        "    try:\n",
        "        choice = int(input(\"Enter the number of your chosen breed: \")) - 1\n",
        "        if choice in [0, 1, 2]:\n",
        "            dog_breed = topk_labels[choice]\n",
        "            print(f\"My dog is a {dog_breed.replace('-', ' ')} breed.\")\n",
        "            save_answer(choice + 1, dog_breed)\n",
        "            break\n",
        "        elif choice == 3:  # If the dog breed is not in the top-3, the following instead is ran\n",
        "            dog_breed = input(\"Please enter your dog's breed (50 characters or less): \")\n",
        "            if len(dog_breed) <= 50: #Allows the user to only input 50 characters\n",
        "                early_stop = early_stop #This blocks the language model from operating when a manual input is inserted. Set to False if you want the language model to work on manual input\n",
        "                print(\"Thank you for letting us know! We'll work on improving our model for\", dog_breed, \"breeds.\")\n",
        "                save_answer(4, dog_breed)\n",
        "                break\n",
        "            else:\n",
        "                print(\"Sorry, that's too long. Please keep it under 50 characters.\")\n",
        "        else:\n",
        "            print(\"Invalid choice. Please enter 1, 2, 3, or 4.\")\n",
        "    except ValueError:\n",
        "        print(\"Invalid input. Please enter a number.\")\n",
        "\n"
      ],
      "metadata": {
        "id": "5Q5N0F75WLiQ",
        "colab": {
          "base_uri": "https://localhost:8080/"
        },
        "outputId": "926ab160-8003-43f7-c026-663a72d1c304"
      },
      "execution_count": 3,
      "outputs": [
        {
          "output_type": "stream",
          "name": "stderr",
          "text": [
            "<ipython-input-3-1da93f0817ea>:20: FutureWarning: You are using `torch.load` with `weights_only=False` (the current default value), which uses the default pickle module implicitly. It is possible to construct malicious pickle data which will execute arbitrary code during unpickling (See https://github.com/pytorch/pytorch/blob/main/SECURITY.md#untrusted-models for more details). In a future release, the default value for `weights_only` will be flipped to `True`. This limits the functions that could be executed during unpickling. Arbitrary objects will no longer be allowed to be loaded via this mode unless they are explicitly allowlisted by the user via `torch.serialization.add_safe_globals`. We recommend you start setting `weights_only=True` for any use case where you don't have full control of the loaded file. Please open an issue on GitHub for any issues related to this experimental feature.\n",
            "  model.load_state_dict(torch.load('/content/DogImageModel.pth', map_location=torch.device('cpu')))\n"
          ]
        },
        {
          "output_type": "stream",
          "name": "stdout",
          "text": [
            "Choose a dog breed:\n",
            "1. Saint-Bernard\n",
            "2. American-Foxhound\n",
            "3. Beagle\n",
            "4. None of these.\n",
            "Enter the number of your chosen breed: 1\n",
            "My dog is a Saint Bernard breed.\n"
          ]
        }
      ]
    },
    {
      "cell_type": "code",
      "source": [
        "\n",
        "#Load the LoRA adapters and set FastLanguageModel for inference (if a CUDA GPU is present)\n",
        "#Wont load if the user answered number 4 and you DID NOT change early_stop to True in the while block\n",
        "if not early_stop:\n",
        "  if torch.cuda.is_available():\n",
        "      from unsloth import FastLanguageModel\n",
        "\n",
        "\n",
        "      max_seq_length = 2048\n",
        "      dtype = None\n",
        "      load_in_4bit = True\n",
        "\n",
        "      model, tokenizer = FastLanguageModel.from_pretrained( #same parameters as it was trained on.\n",
        "          model_name = \"/content/Dog-LoRA\", #Directory to the folder (not the file) where your model is saved. Any of the save methods from the Unsloth training should work\n",
        "          max_seq_length = max_seq_length,\n",
        "          dtype = dtype,\n",
        "          load_in_4bit = load_in_4bit,\n",
        "      )\n",
        "      FastLanguageModel.for_inference(model)\n",
        "\n",
        "      #Need to set the prompt again\n",
        "      alpaca_prompt = \"\"\"\n",
        "\n",
        "      ### label:\n",
        "      {}\n",
        "\n",
        "      ### text:\n",
        "      {}\"\"\"\n",
        "\n",
        "      labels = tokenizer(\n",
        "          [\n",
        "              alpaca_prompt.format(\n",
        "                  f\"Please tell me something interesting about the {dog_breed} Dog\",\n",
        "                  \"\",\n",
        "              )\n",
        "          ], return_tensors = \"pt\").to(\"cuda\")\n",
        "\n",
        "\n",
        "  else:\n",
        "      print(\"Language model output is only available for GPU hardware\")\n",
        "\n",
        "try:\n",
        "    texts = model.generate(**labels, max_new_tokens = 128, use_cache = True)\n",
        "    print(tokenizer.batch_decode(texts))\n",
        "except Exception as e:\n",
        "    pass  # Ignore the error\n"
      ],
      "metadata": {
        "colab": {
          "base_uri": "https://localhost:8080/",
          "height": 280,
          "referenced_widgets": [
            "0df0809319444372b01660950500633c",
            "b8a1ac24c946423d937f7bc7b4d5b964",
            "69cd1829aea84b9c9b4afca0ab3fab9d",
            "fcea2fc09b7148028fb8a3bcf7458540",
            "edb25af117a848bea206379c2a3fd07e",
            "6a2488e087834f06b1ace906b1c555c9",
            "9bbdc0bbff39449b907929fab7413dc6",
            "9d9a46c45b904063ad7396b596b17bf4",
            "6321d185dc1f4cdf910e5fca0517a1a2",
            "9a115f278c064f219c7abf9d905a321e",
            "c029fb96c19e47729445c622875f197b",
            "fbd9f3e5e7e14471b8c283e1035cef81",
            "4273c21b37f6445681ae856ce2169521",
            "f27af0c4379c4ae89430177a76a83538",
            "304bb5b6910748aaba4e85a03ddbb931",
            "493686d0b239456dae5aed1c877ae58d",
            "a6233ad1c0fb460a8a8ed551920f80f4",
            "88a59b3b747a4eb4b124ee6daf294e38",
            "1c5a9caff4184fc191cd334b2d6f17b3",
            "a9252ed9d40c4d1a9ab7173dc6781569",
            "5b177483cee8400d94a5f7ce4f9df317",
            "58f6c4e15dce4ebaa2c3077a30ce83a3"
          ]
        },
        "id": "DpM9QErs1RNx",
        "outputId": "97874214-ee66-4dc8-e90c-be598ea2d7c1"
      },
      "execution_count": 4,
      "outputs": [
        {
          "output_type": "stream",
          "name": "stdout",
          "text": [
            "🦥 Unsloth: Will patch your computer to enable 2x faster free finetuning.\n",
            "🦥 Unsloth Zoo will now patch everything to make training faster!\n",
            "==((====))==  Unsloth 2024.12.8: Fast Llama patching. Transformers: 4.46.3.\n",
            "   \\\\   /|    GPU: Tesla T4. Max memory: 14.748 GB. Platform: Linux.\n",
            "O^O/ \\_/ \\    Torch: 2.5.1+cu121. CUDA: 7.5. CUDA Toolkit: 12.1. Triton: 3.1.0\n",
            "\\        /    Bfloat16 = FALSE. FA [Xformers = 0.0.28.post3. FA2 = False]\n",
            " \"-____-\"     Free Apache license: http://github.com/unslothai/unsloth\n",
            "Unsloth: Fast downloading is enabled - ignore downloading bars which are red colored!\n"
          ]
        },
        {
          "output_type": "display_data",
          "data": {
            "text/plain": [
              "model.safetensors:   0%|          | 0.00/5.70G [00:00<?, ?B/s]"
            ],
            "application/vnd.jupyter.widget-view+json": {
              "version_major": 2,
              "version_minor": 0,
              "model_id": "0df0809319444372b01660950500633c"
            }
          },
          "metadata": {}
        },
        {
          "output_type": "display_data",
          "data": {
            "text/plain": [
              "generation_config.json:   0%|          | 0.00/198 [00:00<?, ?B/s]"
            ],
            "application/vnd.jupyter.widget-view+json": {
              "version_major": 2,
              "version_minor": 0,
              "model_id": "fbd9f3e5e7e14471b8c283e1035cef81"
            }
          },
          "metadata": {}
        },
        {
          "output_type": "stream",
          "name": "stderr",
          "text": [
            "Unsloth 2024.12.8 patched 32 layers with 32 QKV layers, 32 O layers and 32 MLP layers.\n"
          ]
        },
        {
          "output_type": "stream",
          "name": "stdout",
          "text": [
            "['<|begin_of_text|>\\n\\n      ### label:\\n      Please tell me something interesting about the Saint-Bernard Dog\\n\\n      ### text:\\n       Saint-Bernard: Saint Bernards are known to be good with children of all ages and they are very gentle and tolerant of them. However they are large dogs and they can easily knock a toddler over which is why it is always best to supervise any interactions between toddlers and dogs.<|end_of_text|>']\n"
          ]
        }
      ]
    },
    {
      "cell_type": "markdown",
      "source": [
        "If you loaded the language model in the previouos cell, the next cell is for running the dog_breed variable through the model. It is in a seperate cell so you may run the output several times without reloading the LLM each time. However, if you run the image classifier again, you must run the cell above as well."
      ],
      "metadata": {
        "id": "6Zp1Au4GyOVZ"
      }
    },
    {
      "cell_type": "code",
      "source": [
        "texts = model.generate(**labels, max_new_tokens = 128, use_cache = True)\n",
        "tokenizer.batch_decode(texts)"
      ],
      "metadata": {
        "id": "TXbi_oPFZ0EB",
        "colab": {
          "base_uri": "https://localhost:8080/"
        },
        "outputId": "9052ad39-2266-4777-a4c9-b9e0b6a881a6"
      },
      "execution_count": 6,
      "outputs": [
        {
          "output_type": "execute_result",
          "data": {
            "text/plain": [
              "['<|begin_of_text|>\\n\\n      ### label:\\n      Please tell me something interesting about the Saint-Bernard Dog\\n\\n      ### text:\\n       Saint-Bernard: The Saint Bernard is a large dog breed with a long history of helping people. They were originally bred to be working dogs in the Swiss Alps, where they were used to rescue travelers who had become stranded in the mountains.<|end_of_text|>']"
            ]
          },
          "metadata": {},
          "execution_count": 6
        }
      ]
    }
  ]
}